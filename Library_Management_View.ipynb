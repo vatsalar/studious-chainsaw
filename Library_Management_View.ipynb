{
 "cells": [
  {
   "cell_type": "code",
   "execution_count": 19,
   "metadata": {},
   "outputs": [],
   "source": [
    "#VIEW BOOKS\n",
    "from tkinter import*\n",
    "from PIL import ImageTk,Image\n",
    "from tkinter import messagebox\n",
    "import pymysql\n",
    "\n",
    "#adding own datbase name &passwrd\n",
    "#mypass=\"JwaLAMUKH!6\"\n",
    "#mydatabase=\"db\"\n",
    "\n",
    "con=pymysql.connect(host=\"localhost\",user=\"root\",passwd=\"JwaLAMUKH!6\",database=\"db\")\n",
    "#con=pymysql.connect(host=\"localhost\",user=\"root\",password=mypass,database=mydatabase)\n",
    "cur=con.cursor()\n",
    "\n",
    "#enter table names here\n",
    "bookTable=\"books\"\n",
    "#creates a window for displaying the records in the table.\n",
    "def view():\n",
    "    root=Tk()\n",
    "    root.title(\"Library\")\n",
    "    root.minsize(width=400,height=400)\n",
    "    root.geometry(\"600*500\")\n",
    "    \n",
    "    Canvas1=Canvas(root)\n",
    "    Canvas1.config(bg=\"12a4d9\")\n",
    "    Canvas1.pack(expand=True,fill=BOTH)\n",
    "    \n",
    "    #we create a headingFrame and title it with a Label to display ‘View Books’.\n",
    "    headingFrame1=Frame(root,bg=\"#FFBB00\",bd=5)\n",
    "    headingFrame1=Frame(relx=0.25,rely=0.1,relwidth=0.5,relheight=0.13)\n",
    "    \n",
    "    #black box to accommodate the records returned by the getBooks query.\n",
    "    headingLabel=Label(headingFrame1,text=\"ViewBooks\",bg='black',fg='white',font=('Courier',15))\n",
    "    headingLabel.place(relx=0,rely=0,relwidth=1,relheight=1)\n",
    "    \n",
    "    labelFrame=Frame(root,bg='black')\n",
    "    labelFrame.place(relx=0.1,rely=0.3,relwidth=0.8,relheight=0.5)\n",
    "    y=0.25\n",
    "    \n",
    "    Label(labelFrame,text=\"%-10s%-40s%-30s%-20s\"%('BID','Title','Author','Status'),bg='black',fg='white').place(relx=0.07,rely=0.1)\n",
    "    Label(labelFrame, text=\"----------------------------------------------------------------------------\",bg='black',fg='white').place(relx=0.05,rely=0.2)\n",
    "    \n",
    "    #execute the query stored in getBooks using cur.execute() display each record one by one as a Label\n",
    "    getBooks=\"select * from\"+bookTable\n",
    "    try:\n",
    "        cur.execute(getBooks)\n",
    "        con.commit()\n",
    "        for i in cur:\n",
    "            Label(labelFrame, text=\"%-10s%-30s%-30s%-20s\"%(i[0],i[1],i[2],i[3]),bg='black',fg='white').place(relx=0.07,rely=y)\n",
    "            y+=0.1\n",
    "    except:\n",
    "        messagebox.showinfo(\"Failed to fetch files from database\")\n",
    "    \n",
    "    #quit button\n",
    "    quitBtn=Button(root,text=\"Quit\",bg='#f7f1e3', fg='black', command=root.destroy)\n",
    "    quitBtn.place(relx=0.4,rely=0.9, relwidth=0.18,relheight=0.08)\n",
    "    \n",
    "    root.mainloop()\n",
    "    "
   ]
  },
  {
   "cell_type": "code",
   "execution_count": null,
   "metadata": {},
   "outputs": [],
   "source": []
  }
 ],
 "metadata": {
  "kernelspec": {
   "display_name": "Python 3",
   "language": "python",
   "name": "python3"
  },
  "language_info": {
   "codemirror_mode": {
    "name": "ipython",
    "version": 3
   },
   "file_extension": ".py",
   "mimetype": "text/x-python",
   "name": "python",
   "nbconvert_exporter": "python",
   "pygments_lexer": "ipython3",
   "version": "3.7.4"
  }
 },
 "nbformat": 4,
 "nbformat_minor": 2
}
