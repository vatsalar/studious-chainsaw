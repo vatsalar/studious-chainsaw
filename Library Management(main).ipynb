{
 "cells": [
  {
   "cell_type": "code",
   "execution_count": 14,
   "metadata": {},
   "outputs": [
    {
     "ename": "NameError",
     "evalue": "name 'null' is not defined",
     "output_type": "error",
     "traceback": [
      "\u001b[1;31m---------------------------------------------------------------------------\u001b[0m",
      "\u001b[1;31mNameError\u001b[0m                                 Traceback (most recent call last)",
      "\u001b[1;32m<ipython-input-14-1b7d498d8e57>\u001b[0m in \u001b[0;36m<module>\u001b[1;34m\u001b[0m\n\u001b[0;32m      3\u001b[0m \u001b[1;32mimport\u001b[0m \u001b[0mpymysql\u001b[0m\u001b[1;33m\u001b[0m\u001b[1;33m\u001b[0m\u001b[0m\n\u001b[0;32m      4\u001b[0m \u001b[1;32mfrom\u001b[0m \u001b[0mtkinter\u001b[0m \u001b[1;32mimport\u001b[0m \u001b[0mmessagebox\u001b[0m\u001b[1;33m\u001b[0m\u001b[1;33m\u001b[0m\u001b[0m\n\u001b[1;32m----> 5\u001b[1;33m \u001b[1;32mfrom\u001b[0m \u001b[0mAdd\u001b[0m \u001b[1;32mimport\u001b[0m \u001b[1;33m*\u001b[0m\u001b[1;33m\u001b[0m\u001b[1;33m\u001b[0m\u001b[0m\n\u001b[0m\u001b[0;32m      6\u001b[0m \u001b[1;32mfrom\u001b[0m \u001b[0mDeleteBook\u001b[0m \u001b[1;32mimport\u001b[0m \u001b[1;33m*\u001b[0m\u001b[1;33m\u001b[0m\u001b[1;33m\u001b[0m\u001b[0m\n\u001b[0;32m      7\u001b[0m \u001b[1;32mfrom\u001b[0m \u001b[0mViewBooks\u001b[0m \u001b[1;32mimport\u001b[0m \u001b[1;33m*\u001b[0m\u001b[1;33m\u001b[0m\u001b[1;33m\u001b[0m\u001b[0m\n",
      "\u001b[1;32m~\\Add.py\u001b[0m in \u001b[0;36m<module>\u001b[1;34m\u001b[0m\n\u001b[0;32m    127\u001b[0m   {\n\u001b[0;32m    128\u001b[0m    \u001b[1;34m\"cell_type\"\u001b[0m\u001b[1;33m:\u001b[0m \u001b[1;34m\"code\"\u001b[0m\u001b[1;33m,\u001b[0m\u001b[1;33m\u001b[0m\u001b[1;33m\u001b[0m\u001b[0m\n\u001b[1;32m--> 129\u001b[1;33m    \u001b[1;34m\"execution_count\"\u001b[0m\u001b[1;33m:\u001b[0m \u001b[0mnull\u001b[0m\u001b[1;33m,\u001b[0m\u001b[1;33m\u001b[0m\u001b[1;33m\u001b[0m\u001b[0m\n\u001b[0m\u001b[0;32m    130\u001b[0m    \u001b[1;34m\"metadata\"\u001b[0m\u001b[1;33m:\u001b[0m \u001b[1;33m{\u001b[0m\u001b[1;33m}\u001b[0m\u001b[1;33m,\u001b[0m\u001b[1;33m\u001b[0m\u001b[1;33m\u001b[0m\u001b[0m\n\u001b[0;32m    131\u001b[0m    \u001b[1;34m\"outputs\"\u001b[0m\u001b[1;33m:\u001b[0m \u001b[1;33m[\u001b[0m\u001b[1;33m]\u001b[0m\u001b[1;33m,\u001b[0m\u001b[1;33m\u001b[0m\u001b[1;33m\u001b[0m\u001b[0m\n",
      "\u001b[1;31mNameError\u001b[0m: name 'null' is not defined"
     ]
    }
   ],
   "source": [
    "from tkinter import *\n",
    "from PIL import ImageTk,Image\n",
    "import pymysql\n",
    "from tkinter import messagebox\n",
    "from Add import *\n",
    "from DeleteBook import *\n",
    "from ViewBooks import *\n",
    "from IssueBook import *\n",
    "from ReturnBook import *\n",
    "# Add your own database name and password here to reflect in the code\n",
    "mypass = \"JwaLAMUKH!6\"\n",
    "mydatabase=\"db\"\n",
    "\n",
    "con = pymysql.connect(host=\"localhost\",user=\"root\",password=mypass,database=mydatabase)\n",
    "cur = con.cursor()\n",
    "\n",
    "root = Tk()\n",
    "root.title(\"Library\")\n",
    "root.minsize(width=400,height=400)\n",
    "root.geometry(\"600x500\")\n",
    "\n",
    "# Take n greater than 0.25 and less than 5\n",
    "same=True\n",
    "n=0.25\n",
    "\n",
    "# Adding a background image\n",
    "background_image =Image.open(\"lib.jpg\")\n",
    "[imageSizeWidth, imageSizeHeight] = background_image.size\n",
    "\n",
    "newImageSizeWidth = int(imageSizeWidth*n)\n",
    "if same:\n",
    "    newImageSizeHeight = int(imageSizeHeight*n) \n",
    "else:\n",
    "    newImageSizeHeight = int(imageSizeHeight/n) \n",
    "    \n",
    "background_image = background_image.resize((newImageSizeWidth,newImageSizeHeight),Image.ANTIALIAS)\n",
    "img = ImageTk.PhotoImage(background_image)\n",
    "\n",
    "Canvas1 = Canvas(root)\n",
    "\n",
    "Canvas1.create_image(300,340,image = img)      \n",
    "Canvas1.config(bg=\"white\",width = newImageSizeWidth, height = newImageSizeHeight)\n",
    "Canvas1.pack(expand=True,fill=BOTH)\n",
    "\n",
    "headingFrame1 = Frame(root,bg=\"#FFBB00\",bd=5)\n",
    "headingFrame1.place(relx=0.2,rely=0.1,relwidth=0.6,relheight=0.16)\n",
    "\n",
    "headingLabel = Label(headingFrame1, text=\"Welcome to \\n DataFlair Library\", bg='black', fg='white', font=('Courier',15))\n",
    "headingLabel.place(relx=0,rely=0, relwidth=1, relheight=1)\n",
    "\n",
    "btn1 = Button(root,text=\"Add Book Details\",bg='black', fg='white', command=addBook)\n",
    "btn1.place(relx=0.28,rely=0.4, relwidth=0.45,relheight=0.1)\n",
    "    \n",
    "btn2 = Button(root,text=\"Delete Book\",bg='black', fg='white', command=delete)\n",
    "btn2.place(relx=0.28,rely=0.5, relwidth=0.45,relheight=0.1)\n",
    "    \n",
    "btn3 = Button(root,text=\"View Book List\",bg='black', fg='white', command=View)\n",
    "btn3.place(relx=0.28,rely=0.6, relwidth=0.45,relheight=0.1)\n",
    "    \n",
    "btn4 = Button(root,text=\"Issue Book to Student\",bg='black', fg='white', command = issueBook)\n",
    "btn4.place(relx=0.28,rely=0.7, relwidth=0.45,relheight=0.1)\n",
    "    \n",
    "btn5 = Button(root,text=\"Return Book\",bg='black', fg='white', command = returnBook)\n",
    "btn5.place(relx=0.28,rely=0.8, relwidth=0.45,relheight=0.1)\n",
    "\n",
    "root.mainloop()\n"
   ]
  },
  {
   "cell_type": "code",
   "execution_count": null,
   "metadata": {},
   "outputs": [],
   "source": []
  },
  {
   "cell_type": "code",
   "execution_count": null,
   "metadata": {},
   "outputs": [],
   "source": []
  }
 ],
 "metadata": {
  "kernelspec": {
   "display_name": "Python 3",
   "language": "python",
   "name": "python3"
  },
  "language_info": {
   "codemirror_mode": {
    "name": "ipython",
    "version": 3
   },
   "file_extension": ".py",
   "mimetype": "text/x-python",
   "name": "python",
   "nbconvert_exporter": "python",
   "pygments_lexer": "ipython3",
   "version": "3.7.4"
  }
 },
 "nbformat": 4,
 "nbformat_minor": 2
}
