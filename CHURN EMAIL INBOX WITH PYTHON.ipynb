{
 "cells": [
  {
   "cell_type": "markdown",
   "metadata": {},
   "source": [
    "PROJECT:- CHURN EMAIL INBOX WITH PYTHON PROJECT BY NISHI SUS and Vatsala Rathore\n",
    "\n",
    "We have used Python to access the data from files and process it to achieve certain tasks. We will explore the MBox email dataset, and use Python to count lines, headers, subject lines by emails and domains."
   ]
  },
  {
   "cell_type": "code",
   "execution_count": 2,
   "metadata": {},
   "outputs": [
    {
     "data": {
      "text/plain": [
       "1910"
      ]
     },
     "execution_count": 2,
     "metadata": {},
     "output_type": "execute_result"
    }
   ],
   "source": [
    "# Defining number of lines in churn email dataset\n",
    "def number_of_lines():\n",
    "    fhand = open('mbox-short.txt')\n",
    "    inp = fhand.read()\n",
    "    fhand.close()\n",
    "    count = 0\n",
    "    for c in inp:\n",
    "        if c == '\\n':\n",
    "            count += 1\n",
    "    return count\n",
    "number_of_lines()"
   ]
  },
  {
   "cell_type": "code",
   "execution_count": 3,
   "metadata": {},
   "outputs": [
    {
     "data": {
      "text/plain": [
       "27"
      ]
     },
     "execution_count": 3,
     "metadata": {},
     "output_type": "execute_result"
    }
   ],
   "source": [
    "#Counting number of subject lines from dataset\n",
    "def count_number_of_lines():\n",
    "    fhand= open('mbox-short.txt')\n",
    "    count=0\n",
    "    for line in fhand:\n",
    "            line= line.rstrip()#Remove new lines characters from right\n",
    "            if line.startswith('Subject:'):\n",
    "               count=count + 1\n",
    "    return count\n",
    "count_number_of_lines()"
   ]
  },
  {
   "cell_type": "code",
   "execution_count": 4,
   "metadata": {},
   "outputs": [
    {
     "data": {
      "text/plain": [
       "0.7507185185185187"
      ]
     },
     "execution_count": 4,
     "metadata": {},
     "output_type": "execute_result"
    }
   ],
   "source": [
    "#Finding average of spam confidence\n",
    "def average_spam_confidence():\n",
    "    fhand= open('mbox-short.txt')\n",
    "    count = 0\n",
    "    spam_confidence_sum = 0\n",
    "    for line in fhand:\n",
    "            line = line.rstrip() # Remove new line characters from right\n",
    "            if line.startswith('X-DSPAM-Confidence:'):\n",
    "                var, value = line.split(':')\n",
    "                spam_confidence_sum = spam_confidence_sum + float(value)\n",
    "                count = count + 1\n",
    "    return spam_confidence_sum/count\n",
    "average_spam_confidence()"
   ]
  },
  {
   "cell_type": "code",
   "execution_count": 6,
   "metadata": {},
   "outputs": [
    {
     "data": {
      "text/plain": [
       "{'Sat': 1, 'Fri': 20, 'Thu': 6}"
      ]
     },
     "execution_count": 6,
     "metadata": {},
     "output_type": "execute_result"
    }
   ],
   "source": [
    "#Finding which day of the week email was sent\n",
    "def find_email_sent_days():\n",
    "    daysdict = {}\n",
    "    dayslist = []\n",
    "\n",
    "    fhand= open('mbox-short.txt')\n",
    "    for line in fhand:\n",
    "            dayslist = line.split()\n",
    "            if len(dayslist) > 3 and line.startswith('From'):\n",
    "                day = dayslist[2]\n",
    "                if day not in daysdict:\n",
    "                    daysdict[day] = 1\n",
    "                else:\n",
    "                    daysdict[day] += 1\n",
    "    return daysdict\n",
    "find_email_sent_days()"
   ]
  },
  {
   "cell_type": "code",
   "execution_count": 7,
   "metadata": {},
   "outputs": [
    {
     "data": {
      "text/plain": [
       "{'stephen.marquard@uct.ac.za': 2,\n",
       " 'louis@media.berkeley.edu': 3,\n",
       " 'zqian@umich.edu': 4,\n",
       " 'rjlowe@iupui.edu': 2,\n",
       " 'cwen@iupui.edu': 5,\n",
       " 'gsilver@umich.edu': 3,\n",
       " 'wagnermr@iupui.edu': 1,\n",
       " 'antranig@caret.cam.ac.uk': 1,\n",
       " 'gopal.ramasammycook@gmail.com': 1,\n",
       " 'david.horwitz@uct.ac.za': 4,\n",
       " 'ray@media.berkeley.edu': 1}"
      ]
     },
     "execution_count": 7,
     "metadata": {},
     "output_type": "execute_result"
    }
   ],
   "source": [
    "#Counting messages from each email address\n",
    "def count_message_from_email():\n",
    "    lineslist=[]\n",
    "    emaildict={}\n",
    "    fhand=open('mbox-short.txt')\n",
    "    for line in fhand:\n",
    "        lineslist = line.split()\n",
    "        if line.startswith('From:'):\n",
    "          email=lineslist[1]\n",
    "          if email not in emaildict:\n",
    "            emaildict[email] = 1\n",
    "          else:\n",
    "            emaildict[email] += 1\n",
    "    return emaildict\n",
    "count_message_from_email()"
   ]
  },
  {
   "cell_type": "code",
   "execution_count": 9,
   "metadata": {},
   "outputs": [
    {
     "data": {
      "text/plain": [
       "{'uct.ac.za': 6,\n",
       " 'media.berkeley.edu': 4,\n",
       " 'umich.edu': 7,\n",
       " 'iupui.edu': 8,\n",
       " 'caret.cam.ac.uk': 1,\n",
       " 'gmail.com': 1}"
      ]
     },
     "execution_count": 9,
     "metadata": {},
     "output_type": "execute_result"
    }
   ],
   "source": [
    "#Counting number of messages from each domain\n",
    "def count_message_from_domain():\n",
    "    fhand=open('mbox-short.txt')\n",
    "    lineslist=[]\n",
    "    domaindict={}\n",
    "    for line in fhand:\n",
    "            lineslist = line.split()\n",
    "            if line.startswith('From:'):\n",
    "                email=lineslist[1]\n",
    "                domain = email.split('@')[1] \n",
    "                if domain not in domaindict:\n",
    "                    domaindict[domain] = 1\n",
    "                else:\n",
    "                    domaindict[domain] += 1\n",
    "    return domaindict\n",
    "count_message_from_domain()"
   ]
  },
  {
   "cell_type": "code",
   "execution_count": null,
   "metadata": {},
   "outputs": [],
   "source": []
  }
 ],
 "metadata": {},
 "nbformat": 4,
 "nbformat_minor": 2
}
